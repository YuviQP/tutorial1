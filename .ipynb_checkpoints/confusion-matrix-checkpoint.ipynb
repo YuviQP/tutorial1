{
 "cells": [
  {
   "cell_type": "code",
   "execution_count": null,
   "id": "ccad1bab-72e2-4579-9b90-bbb1c8f7bee9",
   "metadata": {},
   "outputs": [],
   "source": [
    "Confusion Matrix is an array used to describe the performance of a classification model in Machine Learning. It is also known as the error matrix. In this article, I’ll give you an introduction to the Confusion Matrix in Machine Learnin"
   ]
  }
 ],
 "metadata": {
  "kernelspec": {
   "display_name": "Python 3 (ipykernel)",
   "language": "python",
   "name": "python3"
  },
  "language_info": {
   "codemirror_mode": {
    "name": "ipython",
    "version": 3
   },
   "file_extension": ".py",
   "mimetype": "text/x-python",
   "name": "python",
   "nbconvert_exporter": "python",
   "pygments_lexer": "ipython3",
   "version": "3.9.12"
  }
 },
 "nbformat": 4,
 "nbformat_minor": 5
}
